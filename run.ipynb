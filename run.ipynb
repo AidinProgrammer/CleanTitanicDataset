{
  "nbformat": 4,
  "nbformat_minor": 0,
  "metadata": {
    "colab": {
      "provenance": [],
      "authorship_tag": "ABX9TyMP9V5a//GssOgeJR3JV7/B"
    },
    "kernelspec": {
      "name": "python3",
      "display_name": "Python 3"
    },
    "language_info": {
      "name": "python"
    }
  },
  "cells": [
    {
      "cell_type": "code",
      "source": [
        "import numpy as np\n",
        "import pandas as pd\n",
        "import seaborn as sns\n",
        "import matplotlib.pyplot as plt"
      ],
      "metadata": {
        "id": "x8Lg0zC61ZeE"
      },
      "execution_count": null,
      "outputs": []
    },
    {
      "cell_type": "code",
      "source": [
        "df = sns.load_dataset('titanic')"
      ],
      "metadata": {
        "id": "x1Bnn1ON1fsE"
      },
      "execution_count": null,
      "outputs": []
    },
    {
      "cell_type": "markdown",
      "source": [
        "# Check Data Types"
      ],
      "metadata": {
        "id": "GfDdKSKk3GbE"
      }
    },
    {
      "cell_type": "code",
      "source": [
        "df.dtypes"
      ],
      "metadata": {
        "colab": {
          "base_uri": "https://localhost:8080/"
        },
        "id": "emkxcRwb3P9T",
        "outputId": "33f29e26-35f2-410c-af9a-35bc057d32cc"
      },
      "execution_count": null,
      "outputs": [
        {
          "output_type": "execute_result",
          "data": {
            "text/plain": [
              "survived          int64\n",
              "pclass            int64\n",
              "sex              object\n",
              "age             float64\n",
              "sibsp             int64\n",
              "parch             int64\n",
              "fare            float64\n",
              "embarked         object\n",
              "class          category\n",
              "who              object\n",
              "adult_male         bool\n",
              "deck           category\n",
              "embark_town      object\n",
              "alive            object\n",
              "alone              bool\n",
              "dtype: object"
            ]
          },
          "metadata": {},
          "execution_count": 4
        }
      ]
    },
    {
      "cell_type": "code",
      "source": [
        "{col: df[col].nunique() for col in df if df[col].dtype == object}"
      ],
      "metadata": {
        "colab": {
          "base_uri": "https://localhost:8080/"
        },
        "id": "iEPGRNzH4oWJ",
        "outputId": "07c2650f-9286-4d1c-fcfc-95ce4338963d"
      },
      "execution_count": null,
      "outputs": [
        {
          "output_type": "execute_result",
          "data": {
            "text/plain": [
              "{'sex': 2, 'embarked': 3, 'who': 3, 'embark_town': 3, 'alive': 2}"
            ]
          },
          "metadata": {},
          "execution_count": 5
        }
      ]
    },
    {
      "cell_type": "code",
      "source": [
        "df = df.astype(\n",
        "    {\n",
        "        'alive': 'category',\n",
        "        'sex': 'category',\n",
        "        'embarked': 'category',\n",
        "        'who': 'category',\n",
        "        'embark_town': 'category'\n",
        "    }\n",
        ")"
      ],
      "metadata": {
        "id": "xpVmS7JG47ar"
      },
      "execution_count": null,
      "outputs": []
    },
    {
      "cell_type": "code",
      "source": [
        "df.alive.cat.codes\n",
        "df.sex.cat.codes"
      ],
      "metadata": {
        "id": "tVkqXeDy5Ws8",
        "colab": {
          "base_uri": "https://localhost:8080/"
        },
        "outputId": "18e982bf-7e8d-41a8-dcd6-6f3e40dc8c99"
      },
      "execution_count": null,
      "outputs": [
        {
          "output_type": "execute_result",
          "data": {
            "text/plain": [
              "0      1\n",
              "1      0\n",
              "2      0\n",
              "3      0\n",
              "4      1\n",
              "      ..\n",
              "886    1\n",
              "887    0\n",
              "888    0\n",
              "889    1\n",
              "890    1\n",
              "Length: 891, dtype: int8"
            ]
          },
          "metadata": {},
          "execution_count": 8
        }
      ]
    },
    {
      "cell_type": "markdown",
      "source": [
        "# Check Correclation"
      ],
      "metadata": {
        "id": "0kFXVwB46zwb"
      }
    },
    {
      "cell_type": "code",
      "source": [
        "df.corr().style.background_gradient(cmap='Greens')"
      ],
      "metadata": {
        "colab": {
          "base_uri": "https://localhost:8080/",
          "height": 300
        },
        "id": "eagOc00a8ECW",
        "outputId": "92061929-3d03-4cd0-ddf3-b398eb39cc31"
      },
      "execution_count": null,
      "outputs": [
        {
          "output_type": "execute_result",
          "data": {
            "text/plain": [
              "<pandas.io.formats.style.Styler at 0x7fc53f2b9510>"
            ],
            "text/html": [
              "<style type=\"text/css\">\n",
              "#T_c5db5_row0_col0, #T_c5db5_row1_col1, #T_c5db5_row2_col2, #T_c5db5_row3_col3, #T_c5db5_row4_col4, #T_c5db5_row5_col5, #T_c5db5_row6_col6, #T_c5db5_row7_col7 {\n",
              "  background-color: #00441b;\n",
              "  color: #f1f1f1;\n",
              "}\n",
              "#T_c5db5_row0_col1, #T_c5db5_row4_col6 {\n",
              "  background-color: #e3f4de;\n",
              "  color: #000000;\n",
              "}\n",
              "#T_c5db5_row0_col2 {\n",
              "  background-color: #d0edca;\n",
              "  color: #000000;\n",
              "}\n",
              "#T_c5db5_row0_col3 {\n",
              "  background-color: #aadda4;\n",
              "  color: #000000;\n",
              "}\n",
              "#T_c5db5_row0_col4, #T_c5db5_row1_col3, #T_c5db5_row1_col6 {\n",
              "  background-color: #91d28e;\n",
              "  color: #000000;\n",
              "}\n",
              "#T_c5db5_row0_col5, #T_c5db5_row5_col0 {\n",
              "  background-color: #6bc072;\n",
              "  color: #000000;\n",
              "}\n",
              "#T_c5db5_row0_col6, #T_c5db5_row1_col2, #T_c5db5_row1_col5, #T_c5db5_row3_col7, #T_c5db5_row4_col7, #T_c5db5_row5_col1, #T_c5db5_row6_col0, #T_c5db5_row7_col3, #T_c5db5_row7_col4 {\n",
              "  background-color: #f7fcf5;\n",
              "  color: #000000;\n",
              "}\n",
              "#T_c5db5_row0_col7, #T_c5db5_row5_col6 {\n",
              "  background-color: #caeac3;\n",
              "  color: #000000;\n",
              "}\n",
              "#T_c5db5_row1_col0 {\n",
              "  background-color: #e2f4dd;\n",
              "  color: #000000;\n",
              "}\n",
              "#T_c5db5_row1_col4 {\n",
              "  background-color: #9fd899;\n",
              "  color: #000000;\n",
              "}\n",
              "#T_c5db5_row1_col7 {\n",
              "  background-color: #84cc83;\n",
              "  color: #000000;\n",
              "}\n",
              "#T_c5db5_row2_col0 {\n",
              "  background-color: #b6e2af;\n",
              "  color: #000000;\n",
              "}\n",
              "#T_c5db5_row2_col1 {\n",
              "  background-color: #e7f6e2;\n",
              "  color: #000000;\n",
              "}\n",
              "#T_c5db5_row2_col3 {\n",
              "  background-color: #daf0d4;\n",
              "  color: #000000;\n",
              "}\n",
              "#T_c5db5_row2_col4 {\n",
              "  background-color: #c8e9c1;\n",
              "  color: #000000;\n",
              "}\n",
              "#T_c5db5_row2_col5, #T_c5db5_row6_col1, #T_c5db5_row7_col2 {\n",
              "  background-color: #92d28f;\n",
              "  color: #000000;\n",
              "}\n",
              "#T_c5db5_row2_col6 {\n",
              "  background-color: #65bd6f;\n",
              "  color: #f1f1f1;\n",
              "}\n",
              "#T_c5db5_row2_col7, #T_c5db5_row4_col5 {\n",
              "  background-color: #76c578;\n",
              "  color: #000000;\n",
              "}\n",
              "#T_c5db5_row3_col0 {\n",
              "  background-color: #aedea7;\n",
              "  color: #000000;\n",
              "}\n",
              "#T_c5db5_row3_col1 {\n",
              "  background-color: #95d391;\n",
              "  color: #000000;\n",
              "}\n",
              "#T_c5db5_row3_col2 {\n",
              "  background-color: #f1faee;\n",
              "  color: #000000;\n",
              "}\n",
              "#T_c5db5_row3_col4, #T_c5db5_row4_col3 {\n",
              "  background-color: #3fa95c;\n",
              "  color: #f1f1f1;\n",
              "}\n",
              "#T_c5db5_row3_col5 {\n",
              "  background-color: #83cb82;\n",
              "  color: #000000;\n",
              "}\n",
              "#T_c5db5_row3_col6 {\n",
              "  background-color: #d5efcf;\n",
              "  color: #000000;\n",
              "}\n",
              "#T_c5db5_row4_col0 {\n",
              "  background-color: #94d390;\n",
              "  color: #000000;\n",
              "}\n",
              "#T_c5db5_row4_col1 {\n",
              "  background-color: #a4da9e;\n",
              "  color: #000000;\n",
              "}\n",
              "#T_c5db5_row4_col2 {\n",
              "  background-color: #e4f5df;\n",
              "  color: #000000;\n",
              "}\n",
              "#T_c5db5_row5_col2 {\n",
              "  background-color: #acdea6;\n",
              "  color: #000000;\n",
              "}\n",
              "#T_c5db5_row5_col3 {\n",
              "  background-color: #7fc97f;\n",
              "  color: #000000;\n",
              "}\n",
              "#T_c5db5_row5_col4 {\n",
              "  background-color: #72c375;\n",
              "  color: #000000;\n",
              "}\n",
              "#T_c5db5_row5_col7 {\n",
              "  background-color: #d4eece;\n",
              "  color: #000000;\n",
              "}\n",
              "#T_c5db5_row6_col2 {\n",
              "  background-color: #7dc87e;\n",
              "  color: #000000;\n",
              "}\n",
              "#T_c5db5_row6_col3 {\n",
              "  background-color: #d1edcb;\n",
              "  color: #000000;\n",
              "}\n",
              "#T_c5db5_row6_col4 {\n",
              "  background-color: #e0f3db;\n",
              "  color: #000000;\n",
              "}\n",
              "#T_c5db5_row6_col5 {\n",
              "  background-color: #cbeac4;\n",
              "  color: #000000;\n",
              "}\n",
              "#T_c5db5_row6_col7 {\n",
              "  background-color: #42ab5d;\n",
              "  color: #f1f1f1;\n",
              "}\n",
              "#T_c5db5_row7_col0 {\n",
              "  background-color: #ccebc6;\n",
              "  color: #000000;\n",
              "}\n",
              "#T_c5db5_row7_col1 {\n",
              "  background-color: #88ce87;\n",
              "  color: #000000;\n",
              "}\n",
              "#T_c5db5_row7_col5 {\n",
              "  background-color: #d9f0d3;\n",
              "  color: #000000;\n",
              "}\n",
              "#T_c5db5_row7_col6 {\n",
              "  background-color: #43ac5e;\n",
              "  color: #f1f1f1;\n",
              "}\n",
              "</style>\n",
              "<table id=\"T_c5db5_\" class=\"dataframe\">\n",
              "  <thead>\n",
              "    <tr>\n",
              "      <th class=\"blank level0\" >&nbsp;</th>\n",
              "      <th class=\"col_heading level0 col0\" >survived</th>\n",
              "      <th class=\"col_heading level0 col1\" >pclass</th>\n",
              "      <th class=\"col_heading level0 col2\" >age</th>\n",
              "      <th class=\"col_heading level0 col3\" >sibsp</th>\n",
              "      <th class=\"col_heading level0 col4\" >parch</th>\n",
              "      <th class=\"col_heading level0 col5\" >fare</th>\n",
              "      <th class=\"col_heading level0 col6\" >adult_male</th>\n",
              "      <th class=\"col_heading level0 col7\" >alone</th>\n",
              "    </tr>\n",
              "  </thead>\n",
              "  <tbody>\n",
              "    <tr>\n",
              "      <th id=\"T_c5db5_level0_row0\" class=\"row_heading level0 row0\" >survived</th>\n",
              "      <td id=\"T_c5db5_row0_col0\" class=\"data row0 col0\" >1.000000</td>\n",
              "      <td id=\"T_c5db5_row0_col1\" class=\"data row0 col1\" >-0.338481</td>\n",
              "      <td id=\"T_c5db5_row0_col2\" class=\"data row0 col2\" >-0.077221</td>\n",
              "      <td id=\"T_c5db5_row0_col3\" class=\"data row0 col3\" >-0.035322</td>\n",
              "      <td id=\"T_c5db5_row0_col4\" class=\"data row0 col4\" >0.081629</td>\n",
              "      <td id=\"T_c5db5_row0_col5\" class=\"data row0 col5\" >0.257307</td>\n",
              "      <td id=\"T_c5db5_row0_col6\" class=\"data row0 col6\" >-0.557080</td>\n",
              "      <td id=\"T_c5db5_row0_col7\" class=\"data row0 col7\" >-0.203367</td>\n",
              "    </tr>\n",
              "    <tr>\n",
              "      <th id=\"T_c5db5_level0_row1\" class=\"row_heading level0 row1\" >pclass</th>\n",
              "      <td id=\"T_c5db5_row1_col0\" class=\"data row1 col0\" >-0.338481</td>\n",
              "      <td id=\"T_c5db5_row1_col1\" class=\"data row1 col1\" >1.000000</td>\n",
              "      <td id=\"T_c5db5_row1_col2\" class=\"data row1 col2\" >-0.369226</td>\n",
              "      <td id=\"T_c5db5_row1_col3\" class=\"data row1 col3\" >0.083081</td>\n",
              "      <td id=\"T_c5db5_row1_col4\" class=\"data row1 col4\" >0.018443</td>\n",
              "      <td id=\"T_c5db5_row1_col5\" class=\"data row1 col5\" >-0.549500</td>\n",
              "      <td id=\"T_c5db5_row1_col6\" class=\"data row1 col6\" >0.094035</td>\n",
              "      <td id=\"T_c5db5_row1_col7\" class=\"data row1 col7\" >0.135207</td>\n",
              "    </tr>\n",
              "    <tr>\n",
              "      <th id=\"T_c5db5_level0_row2\" class=\"row_heading level0 row2\" >age</th>\n",
              "      <td id=\"T_c5db5_row2_col0\" class=\"data row2 col0\" >-0.077221</td>\n",
              "      <td id=\"T_c5db5_row2_col1\" class=\"data row2 col1\" >-0.369226</td>\n",
              "      <td id=\"T_c5db5_row2_col2\" class=\"data row2 col2\" >1.000000</td>\n",
              "      <td id=\"T_c5db5_row2_col3\" class=\"data row2 col3\" >-0.308247</td>\n",
              "      <td id=\"T_c5db5_row2_col4\" class=\"data row2 col4\" >-0.189119</td>\n",
              "      <td id=\"T_c5db5_row2_col5\" class=\"data row2 col5\" >0.096067</td>\n",
              "      <td id=\"T_c5db5_row2_col6\" class=\"data row2 col6\" >0.280328</td>\n",
              "      <td id=\"T_c5db5_row2_col7\" class=\"data row2 col7\" >0.198270</td>\n",
              "    </tr>\n",
              "    <tr>\n",
              "      <th id=\"T_c5db5_level0_row3\" class=\"row_heading level0 row3\" >sibsp</th>\n",
              "      <td id=\"T_c5db5_row3_col0\" class=\"data row3 col0\" >-0.035322</td>\n",
              "      <td id=\"T_c5db5_row3_col1\" class=\"data row3 col1\" >0.083081</td>\n",
              "      <td id=\"T_c5db5_row3_col2\" class=\"data row3 col2\" >-0.308247</td>\n",
              "      <td id=\"T_c5db5_row3_col3\" class=\"data row3 col3\" >1.000000</td>\n",
              "      <td id=\"T_c5db5_row3_col4\" class=\"data row3 col4\" >0.414838</td>\n",
              "      <td id=\"T_c5db5_row3_col5\" class=\"data row3 col5\" >0.159651</td>\n",
              "      <td id=\"T_c5db5_row3_col6\" class=\"data row3 col6\" >-0.253586</td>\n",
              "      <td id=\"T_c5db5_row3_col7\" class=\"data row3 col7\" >-0.584471</td>\n",
              "    </tr>\n",
              "    <tr>\n",
              "      <th id=\"T_c5db5_level0_row4\" class=\"row_heading level0 row4\" >parch</th>\n",
              "      <td id=\"T_c5db5_row4_col0\" class=\"data row4 col0\" >0.081629</td>\n",
              "      <td id=\"T_c5db5_row4_col1\" class=\"data row4 col1\" >0.018443</td>\n",
              "      <td id=\"T_c5db5_row4_col2\" class=\"data row4 col2\" >-0.189119</td>\n",
              "      <td id=\"T_c5db5_row4_col3\" class=\"data row4 col3\" >0.414838</td>\n",
              "      <td id=\"T_c5db5_row4_col4\" class=\"data row4 col4\" >1.000000</td>\n",
              "      <td id=\"T_c5db5_row4_col5\" class=\"data row4 col5\" >0.216225</td>\n",
              "      <td id=\"T_c5db5_row4_col6\" class=\"data row4 col6\" >-0.349943</td>\n",
              "      <td id=\"T_c5db5_row4_col7\" class=\"data row4 col7\" >-0.583398</td>\n",
              "    </tr>\n",
              "    <tr>\n",
              "      <th id=\"T_c5db5_level0_row5\" class=\"row_heading level0 row5\" >fare</th>\n",
              "      <td id=\"T_c5db5_row5_col0\" class=\"data row5 col0\" >0.257307</td>\n",
              "      <td id=\"T_c5db5_row5_col1\" class=\"data row5 col1\" >-0.549500</td>\n",
              "      <td id=\"T_c5db5_row5_col2\" class=\"data row5 col2\" >0.096067</td>\n",
              "      <td id=\"T_c5db5_row5_col3\" class=\"data row5 col3\" >0.159651</td>\n",
              "      <td id=\"T_c5db5_row5_col4\" class=\"data row5 col4\" >0.216225</td>\n",
              "      <td id=\"T_c5db5_row5_col5\" class=\"data row5 col5\" >1.000000</td>\n",
              "      <td id=\"T_c5db5_row5_col6\" class=\"data row5 col6\" >-0.182024</td>\n",
              "      <td id=\"T_c5db5_row5_col7\" class=\"data row5 col7\" >-0.271832</td>\n",
              "    </tr>\n",
              "    <tr>\n",
              "      <th id=\"T_c5db5_level0_row6\" class=\"row_heading level0 row6\" >adult_male</th>\n",
              "      <td id=\"T_c5db5_row6_col0\" class=\"data row6 col0\" >-0.557080</td>\n",
              "      <td id=\"T_c5db5_row6_col1\" class=\"data row6 col1\" >0.094035</td>\n",
              "      <td id=\"T_c5db5_row6_col2\" class=\"data row6 col2\" >0.280328</td>\n",
              "      <td id=\"T_c5db5_row6_col3\" class=\"data row6 col3\" >-0.253586</td>\n",
              "      <td id=\"T_c5db5_row6_col4\" class=\"data row6 col4\" >-0.349943</td>\n",
              "      <td id=\"T_c5db5_row6_col5\" class=\"data row6 col5\" >-0.182024</td>\n",
              "      <td id=\"T_c5db5_row6_col6\" class=\"data row6 col6\" >1.000000</td>\n",
              "      <td id=\"T_c5db5_row6_col7\" class=\"data row6 col7\" >0.404744</td>\n",
              "    </tr>\n",
              "    <tr>\n",
              "      <th id=\"T_c5db5_level0_row7\" class=\"row_heading level0 row7\" >alone</th>\n",
              "      <td id=\"T_c5db5_row7_col0\" class=\"data row7 col0\" >-0.203367</td>\n",
              "      <td id=\"T_c5db5_row7_col1\" class=\"data row7 col1\" >0.135207</td>\n",
              "      <td id=\"T_c5db5_row7_col2\" class=\"data row7 col2\" >0.198270</td>\n",
              "      <td id=\"T_c5db5_row7_col3\" class=\"data row7 col3\" >-0.584471</td>\n",
              "      <td id=\"T_c5db5_row7_col4\" class=\"data row7 col4\" >-0.583398</td>\n",
              "      <td id=\"T_c5db5_row7_col5\" class=\"data row7 col5\" >-0.271832</td>\n",
              "      <td id=\"T_c5db5_row7_col6\" class=\"data row7 col6\" >0.404744</td>\n",
              "      <td id=\"T_c5db5_row7_col7\" class=\"data row7 col7\" >1.000000</td>\n",
              "    </tr>\n",
              "  </tbody>\n",
              "</table>\n"
            ]
          },
          "metadata": {},
          "execution_count": 16
        }
      ]
    },
    {
      "cell_type": "code",
      "source": [
        "df.drop(columns='alive', inplace=True)"
      ],
      "metadata": {
        "id": "iYIcP8Pji2Qi"
      },
      "execution_count": null,
      "outputs": []
    },
    {
      "cell_type": "markdown",
      "source": [
        "# Describe"
      ],
      "metadata": {
        "id": "PCsEX6H8jJL6"
      }
    },
    {
      "cell_type": "code",
      "source": [
        "df.describe(include=['category'])"
      ],
      "metadata": {
        "colab": {
          "base_uri": "https://localhost:8080/",
          "height": 175
        },
        "id": "QAXv_nyLjLmB",
        "outputId": "984d17f8-bfc0-4422-e854-bec31053ccea"
      },
      "execution_count": null,
      "outputs": [
        {
          "output_type": "execute_result",
          "data": {
            "text/plain": [
              "         sex embarked  class  who deck  embark_town\n",
              "count    891      889    891  891  203          889\n",
              "unique     2        3      3    3    7            3\n",
              "top     male        S  Third  man    C  Southampton\n",
              "freq     577      644    491  537   59          644"
            ],
            "text/html": [
              "\n",
              "  <div id=\"df-4176c45d-e24e-406a-bc77-a436fac53607\">\n",
              "    <div class=\"colab-df-container\">\n",
              "      <div>\n",
              "<style scoped>\n",
              "    .dataframe tbody tr th:only-of-type {\n",
              "        vertical-align: middle;\n",
              "    }\n",
              "\n",
              "    .dataframe tbody tr th {\n",
              "        vertical-align: top;\n",
              "    }\n",
              "\n",
              "    .dataframe thead th {\n",
              "        text-align: right;\n",
              "    }\n",
              "</style>\n",
              "<table border=\"1\" class=\"dataframe\">\n",
              "  <thead>\n",
              "    <tr style=\"text-align: right;\">\n",
              "      <th></th>\n",
              "      <th>sex</th>\n",
              "      <th>embarked</th>\n",
              "      <th>class</th>\n",
              "      <th>who</th>\n",
              "      <th>deck</th>\n",
              "      <th>embark_town</th>\n",
              "    </tr>\n",
              "  </thead>\n",
              "  <tbody>\n",
              "    <tr>\n",
              "      <th>count</th>\n",
              "      <td>891</td>\n",
              "      <td>889</td>\n",
              "      <td>891</td>\n",
              "      <td>891</td>\n",
              "      <td>203</td>\n",
              "      <td>889</td>\n",
              "    </tr>\n",
              "    <tr>\n",
              "      <th>unique</th>\n",
              "      <td>2</td>\n",
              "      <td>3</td>\n",
              "      <td>3</td>\n",
              "      <td>3</td>\n",
              "      <td>7</td>\n",
              "      <td>3</td>\n",
              "    </tr>\n",
              "    <tr>\n",
              "      <th>top</th>\n",
              "      <td>male</td>\n",
              "      <td>S</td>\n",
              "      <td>Third</td>\n",
              "      <td>man</td>\n",
              "      <td>C</td>\n",
              "      <td>Southampton</td>\n",
              "    </tr>\n",
              "    <tr>\n",
              "      <th>freq</th>\n",
              "      <td>577</td>\n",
              "      <td>644</td>\n",
              "      <td>491</td>\n",
              "      <td>537</td>\n",
              "      <td>59</td>\n",
              "      <td>644</td>\n",
              "    </tr>\n",
              "  </tbody>\n",
              "</table>\n",
              "</div>\n",
              "      <button class=\"colab-df-convert\" onclick=\"convertToInteractive('df-4176c45d-e24e-406a-bc77-a436fac53607')\"\n",
              "              title=\"Convert this dataframe to an interactive table.\"\n",
              "              style=\"display:none;\">\n",
              "        \n",
              "  <svg xmlns=\"http://www.w3.org/2000/svg\" height=\"24px\"viewBox=\"0 0 24 24\"\n",
              "       width=\"24px\">\n",
              "    <path d=\"M0 0h24v24H0V0z\" fill=\"none\"/>\n",
              "    <path d=\"M18.56 5.44l.94 2.06.94-2.06 2.06-.94-2.06-.94-.94-2.06-.94 2.06-2.06.94zm-11 1L8.5 8.5l.94-2.06 2.06-.94-2.06-.94L8.5 2.5l-.94 2.06-2.06.94zm10 10l.94 2.06.94-2.06 2.06-.94-2.06-.94-.94-2.06-.94 2.06-2.06.94z\"/><path d=\"M17.41 7.96l-1.37-1.37c-.4-.4-.92-.59-1.43-.59-.52 0-1.04.2-1.43.59L10.3 9.45l-7.72 7.72c-.78.78-.78 2.05 0 2.83L4 21.41c.39.39.9.59 1.41.59.51 0 1.02-.2 1.41-.59l7.78-7.78 2.81-2.81c.8-.78.8-2.07 0-2.86zM5.41 20L4 18.59l7.72-7.72 1.47 1.35L5.41 20z\"/>\n",
              "  </svg>\n",
              "      </button>\n",
              "      \n",
              "  <style>\n",
              "    .colab-df-container {\n",
              "      display:flex;\n",
              "      flex-wrap:wrap;\n",
              "      gap: 12px;\n",
              "    }\n",
              "\n",
              "    .colab-df-convert {\n",
              "      background-color: #E8F0FE;\n",
              "      border: none;\n",
              "      border-radius: 50%;\n",
              "      cursor: pointer;\n",
              "      display: none;\n",
              "      fill: #1967D2;\n",
              "      height: 32px;\n",
              "      padding: 0 0 0 0;\n",
              "      width: 32px;\n",
              "    }\n",
              "\n",
              "    .colab-df-convert:hover {\n",
              "      background-color: #E2EBFA;\n",
              "      box-shadow: 0px 1px 2px rgba(60, 64, 67, 0.3), 0px 1px 3px 1px rgba(60, 64, 67, 0.15);\n",
              "      fill: #174EA6;\n",
              "    }\n",
              "\n",
              "    [theme=dark] .colab-df-convert {\n",
              "      background-color: #3B4455;\n",
              "      fill: #D2E3FC;\n",
              "    }\n",
              "\n",
              "    [theme=dark] .colab-df-convert:hover {\n",
              "      background-color: #434B5C;\n",
              "      box-shadow: 0px 1px 3px 1px rgba(0, 0, 0, 0.15);\n",
              "      filter: drop-shadow(0px 1px 2px rgba(0, 0, 0, 0.3));\n",
              "      fill: #FFFFFF;\n",
              "    }\n",
              "  </style>\n",
              "\n",
              "      <script>\n",
              "        const buttonEl =\n",
              "          document.querySelector('#df-4176c45d-e24e-406a-bc77-a436fac53607 button.colab-df-convert');\n",
              "        buttonEl.style.display =\n",
              "          google.colab.kernel.accessAllowed ? 'block' : 'none';\n",
              "\n",
              "        async function convertToInteractive(key) {\n",
              "          const element = document.querySelector('#df-4176c45d-e24e-406a-bc77-a436fac53607');\n",
              "          const dataTable =\n",
              "            await google.colab.kernel.invokeFunction('convertToInteractive',\n",
              "                                                     [key], {});\n",
              "          if (!dataTable) return;\n",
              "\n",
              "          const docLinkHtml = 'Like what you see? Visit the ' +\n",
              "            '<a target=\"_blank\" href=https://colab.research.google.com/notebooks/data_table.ipynb>data table notebook</a>'\n",
              "            + ' to learn more about interactive tables.';\n",
              "          element.innerHTML = '';\n",
              "          dataTable['output_type'] = 'display_data';\n",
              "          await google.colab.output.renderOutput(dataTable, element);\n",
              "          const docLink = document.createElement('div');\n",
              "          docLink.innerHTML = docLinkHtml;\n",
              "          element.appendChild(docLink);\n",
              "        }\n",
              "      </script>\n",
              "    </div>\n",
              "  </div>\n",
              "  "
            ]
          },
          "metadata": {},
          "execution_count": 11
        }
      ]
    },
    {
      "cell_type": "code",
      "source": [
        "df.drop(columns='embark_town', inplace=True)"
      ],
      "metadata": {
        "id": "O9r0aibZkogT"
      },
      "execution_count": null,
      "outputs": []
    },
    {
      "cell_type": "markdown",
      "source": [
        "# Filling Missing Values"
      ],
      "metadata": {
        "id": "xa4EIdg0AH-R"
      }
    },
    {
      "cell_type": "code",
      "source": [
        "df.isna().sum()"
      ],
      "metadata": {
        "id": "EWgkHcH4ALma"
      },
      "execution_count": null,
      "outputs": []
    },
    {
      "cell_type": "code",
      "source": [
        "sns.barplot(\n",
        "    x = df.isna().sum() / df.shape[0] * 100,\n",
        "    y = df.columns\n",
        ")"
      ],
      "metadata": {
        "colab": {
          "base_uri": "https://localhost:8080/",
          "height": 282
        },
        "id": "9Mxjko91BjFc",
        "outputId": "507e5da4-e694-4bcf-f0b4-19e455f45037"
      },
      "execution_count": null,
      "outputs": [
        {
          "output_type": "execute_result",
          "data": {
            "text/plain": [
              "<matplotlib.axes._subplots.AxesSubplot at 0x7fc53a000bd0>"
            ]
          },
          "metadata": {},
          "execution_count": 23
        },
        {
          "output_type": "display_data",
          "data": {
            "text/plain": [
              "<Figure size 432x288 with 1 Axes>"
            ],
            "image/png": "[encoded data removed]"
          },
          "metadata": {
            "needs_background": "light"
          }
        }
      ]
    },
    {
      "cell_type": "code",
      "source": [
        "# Due to lots of number of missing values, this column was dropped\n",
        "df.drop(columns='deck', inplace=True)"
      ],
      "metadata": {
        "id": "UToFVG9dB4ba"
      },
      "execution_count": null,
      "outputs": []
    },
    {
      "cell_type": "code",
      "source": [
        "df.corr()[['age']]"
      ],
      "metadata": {
        "id": "O5RsfTZQCOOa"
      },
      "execution_count": null,
      "outputs": []
    },
    {
      "cell_type": "code",
      "source": [
        "df.age.fillna(df.age.mean())"
      ],
      "metadata": {
        "colab": {
          "base_uri": "https://localhost:8080/"
        },
        "id": "mbgRa5-fCqkE",
        "outputId": "b554c301-0a9e-41c1-8fbc-d3b86f2ab072"
      },
      "execution_count": null,
      "outputs": [
        {
          "output_type": "execute_result",
          "data": {
            "text/plain": [
              "0      22.000000\n",
              "1      38.000000\n",
              "2      26.000000\n",
              "3      35.000000\n",
              "4      35.000000\n",
              "         ...    \n",
              "886    27.000000\n",
              "887    19.000000\n",
              "888    29.699118\n",
              "889    26.000000\n",
              "890    32.000000\n",
              "Name: age, Length: 891, dtype: float64"
            ]
          },
          "metadata": {},
          "execution_count": 33
        }
      ]
    },
    {
      "cell_type": "code",
      "source": [
        "sns.histplot(df.age.fillna(df.age.mean()))"
      ],
      "metadata": {
        "id": "n79e2LtVC3Bq"
      },
      "execution_count": null,
      "outputs": []
    },
    {
      "cell_type": "code",
      "source": [
        "df.groupby(['adult_male']).age.mean()"
      ],
      "metadata": {
        "colab": {
          "base_uri": "https://localhost:8080/"
        },
        "id": "CasYqAuIFJlD",
        "outputId": "22c5f819-2c7d-430f-bfe0-151f7e7ba91b"
      },
      "execution_count": null,
      "outputs": [
        {
          "output_type": "execute_result",
          "data": {
            "text/plain": [
              "adult_male\n",
              "False    24.932458\n",
              "True     33.173123\n",
              "Name: age, dtype: float64"
            ]
          },
          "metadata": {},
          "execution_count": 39
        }
      ]
    }
  ]
}